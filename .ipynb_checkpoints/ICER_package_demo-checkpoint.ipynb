{
 "cells": [
  {
   "cell_type": "markdown",
   "id": "4fa9cae2-70d5-423a-8cb6-a4fdcd7fba5d",
   "metadata": {},
   "source": [
    "# Demo Notebook for ICER_Data_Package \n",
    "This notebook is for testing methods in DataAnalyzer class on ICER data files: GPFS and SLURM"
   ]
  },
  {
   "cell_type": "code",
   "execution_count": 6,
   "id": "9fe7b63c-366a-43fc-860f-0d330c1c30b4",
   "metadata": {},
   "outputs": [],
   "source": [
    "# Import class\n",
    "from ICER_Data_Package.DataAnalyzer import DataAnalyzer"
   ]
  },
  {
   "cell_type": "markdown",
   "id": "25ca39a9-f3ed-45ac-b713-74ec12b3eea2",
   "metadata": {},
   "source": [
    "## Step 1: Prepare Your Data Files\n",
    "1. GPFS Data File: This file should be a text file with space-separated values, containing columns as described in read_gpfs method. The expected columns are \"Inode (file unique ID)\", \"KB Allocated\", \"File Size\", etc.\n",
    "2. Slurm Data File: This file should be a text file with values separated by a pipe (|), according to read_slurm method's specification."
   ]
  },
  {
   "cell_type": "markdown",
   "id": "c61646f2-42c6-40ea-9bd9-61c167fa4fd7",
   "metadata": {},
   "source": [
    "## Step 2: Initialize the DataAnalyzer Class\n",
    "\n",
    "You'll need to provide paths to your GPFS and Slurm data files when initializing the DataAnalyzer class. If you only have one type of data file or the other, you can provide an empty string for the path you don't have."
   ]
  },
  {
   "cell_type": "code",
   "execution_count": 16,
   "id": "d2fb5c71-b115-458d-9369-1ac705388e07",
   "metadata": {},
   "outputs": [
    {
     "name": "stdout",
     "output_type": "stream",
     "text": [
      "gpfs path= /mnt/research/CMSE495-SS24-ICER/file_system_usage/gpfs-stats/inode-size-age-jan-23\n",
      "slurm path= /mnt/research/CMSE495-SS24-ICER/slurm_usage/DID_FINAL_SLURM_OCT_2023.csv\n"
     ]
    }
   ],
   "source": [
    "analyzer = DataAnalyzer(gpfspath = \"/mnt/research/CMSE495-SS24-ICER/file_system_usage/gpfs-stats/inode-size-age-jan-23\", slurmpath=\"/mnt/research/CMSE495-SS24-ICER/slurm_usage/DID_FINAL_SLURM_OCT_2023.csv\")\n"
   ]
  },
  {
   "cell_type": "markdown",
   "id": "579a1dcd-2aae-42e0-9560-04333ceb8270",
   "metadata": {},
   "source": [
    "## Step 3: Use the DataAnalyzer Methods\n",
    "\n",
    "With your data loaded into the DataAnalyzer instance, you can now use its methods to analyze the data.\n"
   ]
  },
  {
   "cell_type": "markdown",
   "id": "9d17750f-f282-44c5-950d-d92cdd1ed525",
   "metadata": {},
   "source": [
    "1.  To aggregate Slurm data:\n",
    "  \n",
    "  This method aggregates Slurm data based on the jobs, excluding certain jobs as per the logic you've defined.\n",
    "  The aggregated Slurm data (aggregated_slurm_data) will give you a simplified view of jobs, combining batch and extern jobs into single records where applicable."
   ]
  },
  {
   "cell_type": "code",
   "execution_count": 8,
   "id": "99acadff-8f74-4b47-a21c-11c987fa33fb",
   "metadata": {},
   "outputs": [],
   "source": [
    "aggregated_slurm_data = analyzer.AggSLURMDat(analyzer.slurm_data)"
   ]
  },
  {
   "cell_type": "code",
   "execution_count": 14,
   "id": "0c363b5d-69e6-45a8-b216-1dac76e79a87",
   "metadata": {},
   "outputs": [
    {
     "data": {
      "text/html": [
       "<div>\n",
       "<style scoped>\n",
       "    .dataframe tbody tr th:only-of-type {\n",
       "        vertical-align: middle;\n",
       "    }\n",
       "\n",
       "    .dataframe tbody tr th {\n",
       "        vertical-align: top;\n",
       "    }\n",
       "\n",
       "    .dataframe thead th {\n",
       "        text-align: right;\n",
       "    }\n",
       "</style>\n",
       "<table border=\"1\" class=\"dataframe\">\n",
       "  <thead>\n",
       "    <tr style=\"text-align: right;\">\n",
       "      <th></th>\n",
       "      <th>Unnamed: 0.1</th>\n",
       "      <th>Unnamed: 0</th>\n",
       "      <th>JobID</th>\n",
       "      <th>User</th>\n",
       "      <th>Group</th>\n",
       "      <th>Submit</th>\n",
       "      <th>Start</th>\n",
       "      <th>End</th>\n",
       "      <th>Elapsed</th>\n",
       "      <th>State</th>\n",
       "      <th>...</th>\n",
       "      <th>CPUTimeRAW</th>\n",
       "      <th>ReqCPUS</th>\n",
       "      <th>AllocCPUS</th>\n",
       "      <th>ReqMem</th>\n",
       "      <th>MaxRSS</th>\n",
       "      <th>ReqNodes</th>\n",
       "      <th>NNodes</th>\n",
       "      <th>NodeList</th>\n",
       "      <th>ReqTRES</th>\n",
       "      <th>AllocTRES</th>\n",
       "    </tr>\n",
       "  </thead>\n",
       "  <tbody>\n",
       "    <tr>\n",
       "      <th>790</th>\n",
       "      <td>790</td>\n",
       "      <td>790</td>\n",
       "      <td>90361456</td>\n",
       "      <td>user_606</td>\n",
       "      <td>group_000</td>\n",
       "      <td>2023-09-25T14:22:02</td>\n",
       "      <td>2023-10-01T12:17:05</td>\n",
       "      <td>2023-10-01T23:22:50</td>\n",
       "      <td>11:05:45</td>\n",
       "      <td>COMPLETED</td>\n",
       "      <td>...</td>\n",
       "      <td>798900</td>\n",
       "      <td>20</td>\n",
       "      <td>20</td>\n",
       "      <td>160G</td>\n",
       "      <td>126751612K</td>\n",
       "      <td>1</td>\n",
       "      <td>1</td>\n",
       "      <td>lac-230</td>\n",
       "      <td>billing=24903,cpu=20,mem=160G,node=1</td>\n",
       "      <td>billing=24903,cpu=20,mem=160G,node=1</td>\n",
       "    </tr>\n",
       "    <tr>\n",
       "      <th>682</th>\n",
       "      <td>682</td>\n",
       "      <td>682</td>\n",
       "      <td>90361456</td>\n",
       "      <td>user_606</td>\n",
       "      <td>group_000</td>\n",
       "      <td>2023-09-25T14:22:02</td>\n",
       "      <td>2023-09-30T19:11:29</td>\n",
       "      <td>2023-10-02T09:48:17</td>\n",
       "      <td>1-14:36:48</td>\n",
       "      <td>COMPLETED</td>\n",
       "      <td>...</td>\n",
       "      <td>2780160</td>\n",
       "      <td>20</td>\n",
       "      <td>20</td>\n",
       "      <td>160G</td>\n",
       "      <td>128816740K</td>\n",
       "      <td>1</td>\n",
       "      <td>1</td>\n",
       "      <td>skl-143</td>\n",
       "      <td>billing=24903,cpu=20,mem=160G,node=1</td>\n",
       "      <td>billing=24903,cpu=20,mem=160G,node=1</td>\n",
       "    </tr>\n",
       "    <tr>\n",
       "      <th>736</th>\n",
       "      <td>736</td>\n",
       "      <td>736</td>\n",
       "      <td>90361456</td>\n",
       "      <td>user_606</td>\n",
       "      <td>group_000</td>\n",
       "      <td>2023-09-25T14:22:02</td>\n",
       "      <td>2023-10-01T02:43:47</td>\n",
       "      <td>2023-10-01T13:13:42</td>\n",
       "      <td>10:29:55</td>\n",
       "      <td>COMPLETED</td>\n",
       "      <td>...</td>\n",
       "      <td>755900</td>\n",
       "      <td>20</td>\n",
       "      <td>20</td>\n",
       "      <td>160G</td>\n",
       "      <td>129609204K</td>\n",
       "      <td>1</td>\n",
       "      <td>1</td>\n",
       "      <td>acm-064</td>\n",
       "      <td>billing=24903,cpu=20,mem=160G,node=1</td>\n",
       "      <td>billing=24903,cpu=20,mem=160G,node=1</td>\n",
       "    </tr>\n",
       "    <tr>\n",
       "      <th>691</th>\n",
       "      <td>691</td>\n",
       "      <td>691</td>\n",
       "      <td>90361456</td>\n",
       "      <td>user_606</td>\n",
       "      <td>group_000</td>\n",
       "      <td>2023-09-25T14:22:02</td>\n",
       "      <td>2023-09-30T22:05:41</td>\n",
       "      <td>2023-10-01T09:25:17</td>\n",
       "      <td>11:19:36</td>\n",
       "      <td>COMPLETED</td>\n",
       "      <td>...</td>\n",
       "      <td>815520</td>\n",
       "      <td>20</td>\n",
       "      <td>20</td>\n",
       "      <td>160G</td>\n",
       "      <td>132740564K</td>\n",
       "      <td>1</td>\n",
       "      <td>1</td>\n",
       "      <td>amr-070</td>\n",
       "      <td>billing=24903,cpu=20,mem=160G,node=1</td>\n",
       "      <td>billing=24903,cpu=20,mem=160G,node=1</td>\n",
       "    </tr>\n",
       "    <tr>\n",
       "      <th>802</th>\n",
       "      <td>802</td>\n",
       "      <td>802</td>\n",
       "      <td>90361456</td>\n",
       "      <td>user_606</td>\n",
       "      <td>group_000</td>\n",
       "      <td>2023-09-25T14:22:02</td>\n",
       "      <td>2023-10-01T13:15:18</td>\n",
       "      <td>2023-10-01T23:57:16</td>\n",
       "      <td>10:41:58</td>\n",
       "      <td>COMPLETED</td>\n",
       "      <td>...</td>\n",
       "      <td>770360</td>\n",
       "      <td>20</td>\n",
       "      <td>20</td>\n",
       "      <td>160G</td>\n",
       "      <td>132093732K</td>\n",
       "      <td>1</td>\n",
       "      <td>1</td>\n",
       "      <td>skl-145</td>\n",
       "      <td>billing=24903,cpu=20,mem=160G,node=1</td>\n",
       "      <td>billing=24903,cpu=20,mem=160G,node=1</td>\n",
       "    </tr>\n",
       "  </tbody>\n",
       "</table>\n",
       "<p>5 rows × 28 columns</p>\n",
       "</div>"
      ],
      "text/plain": [
       "    Unnamed: 0.1 Unnamed: 0     JobID      User      Group  \\\n",
       "790          790        790  90361456  user_606  group_000   \n",
       "682          682        682  90361456  user_606  group_000   \n",
       "736          736        736  90361456  user_606  group_000   \n",
       "691          691        691  90361456  user_606  group_000   \n",
       "802          802        802  90361456  user_606  group_000   \n",
       "\n",
       "                  Submit                Start                  End  \\\n",
       "790  2023-09-25T14:22:02  2023-10-01T12:17:05  2023-10-01T23:22:50   \n",
       "682  2023-09-25T14:22:02  2023-09-30T19:11:29  2023-10-02T09:48:17   \n",
       "736  2023-09-25T14:22:02  2023-10-01T02:43:47  2023-10-01T13:13:42   \n",
       "691  2023-09-25T14:22:02  2023-09-30T22:05:41  2023-10-01T09:25:17   \n",
       "802  2023-09-25T14:22:02  2023-10-01T13:15:18  2023-10-01T23:57:16   \n",
       "\n",
       "        Elapsed      State  ... CPUTimeRAW ReqCPUS AllocCPUS ReqMem  \\\n",
       "790    11:05:45  COMPLETED  ...     798900      20        20   160G   \n",
       "682  1-14:36:48  COMPLETED  ...    2780160      20        20   160G   \n",
       "736    10:29:55  COMPLETED  ...     755900      20        20   160G   \n",
       "691    11:19:36  COMPLETED  ...     815520      20        20   160G   \n",
       "802    10:41:58  COMPLETED  ...     770360      20        20   160G   \n",
       "\n",
       "         MaxRSS ReqNodes NNodes NodeList  \\\n",
       "790  126751612K        1      1  lac-230   \n",
       "682  128816740K        1      1  skl-143   \n",
       "736  129609204K        1      1  acm-064   \n",
       "691  132740564K        1      1  amr-070   \n",
       "802  132093732K        1      1  skl-145   \n",
       "\n",
       "                                  ReqTRES  \\\n",
       "790  billing=24903,cpu=20,mem=160G,node=1   \n",
       "682  billing=24903,cpu=20,mem=160G,node=1   \n",
       "736  billing=24903,cpu=20,mem=160G,node=1   \n",
       "691  billing=24903,cpu=20,mem=160G,node=1   \n",
       "802  billing=24903,cpu=20,mem=160G,node=1   \n",
       "\n",
       "                                AllocTRES  \n",
       "790  billing=24903,cpu=20,mem=160G,node=1  \n",
       "682  billing=24903,cpu=20,mem=160G,node=1  \n",
       "736  billing=24903,cpu=20,mem=160G,node=1  \n",
       "691  billing=24903,cpu=20,mem=160G,node=1  \n",
       "802  billing=24903,cpu=20,mem=160G,node=1  \n",
       "\n",
       "[5 rows x 28 columns]"
      ]
     },
     "execution_count": 14,
     "metadata": {},
     "output_type": "execute_result"
    }
   ],
   "source": [
    "# access through function\n",
    "aggregated_slurm_data.head()\n",
    "# you can access aggregated Slurm data through slurm_agg, after running .AggSLURMDat method\n",
    "analyzer.slurm_agg.head()"
   ]
  },
  {
   "cell_type": "markdown",
   "id": "7fba504e-1220-4889-8df5-7fbf21ac2ba5",
   "metadata": {},
   "source": [
    "2.  To identify users with many files in the GPFS data:\n",
    "\n",
    "  Replace 100 with whatever file limit you're interested in. This method will return a DataFrame of users who have more files than the specified limit.\n",
    "  The DataFrame returned by UsersWithManyFiles (users_with_many_files) will list users exceeding the specified file count, which can be useful for identifying heavy users or potential optimizations."
   ]
  },
  {
   "cell_type": "code",
   "execution_count": 11,
   "id": "8982817f-c649-4155-8400-341162102edc",
   "metadata": {},
   "outputs": [],
   "source": [
    "users_with_many_files = analyzer.UsersWithManyFiles(file_limit=100)"
   ]
  },
  {
   "cell_type": "code",
   "execution_count": 12,
   "id": "9149986e-0523-4bd7-b1b9-599d334840d1",
   "metadata": {},
   "outputs": [
    {
     "data": {
      "text/html": [
       "<div>\n",
       "<style scoped>\n",
       "    .dataframe tbody tr th:only-of-type {\n",
       "        vertical-align: middle;\n",
       "    }\n",
       "\n",
       "    .dataframe tbody tr th {\n",
       "        vertical-align: top;\n",
       "    }\n",
       "\n",
       "    .dataframe thead th {\n",
       "        text-align: right;\n",
       "    }\n",
       "</style>\n",
       "<table border=\"1\" class=\"dataframe\">\n",
       "  <thead>\n",
       "    <tr style=\"text-align: right;\">\n",
       "      <th></th>\n",
       "      <th>UID numeric ID for the owner of the file</th>\n",
       "      <th>Number of files</th>\n",
       "    </tr>\n",
       "  </thead>\n",
       "  <tbody>\n",
       "    <tr>\n",
       "      <th>5</th>\n",
       "      <td>762231</td>\n",
       "      <td>20534</td>\n",
       "    </tr>\n",
       "    <tr>\n",
       "      <th>10</th>\n",
       "      <td>881083</td>\n",
       "      <td>14576</td>\n",
       "    </tr>\n",
       "    <tr>\n",
       "      <th>6</th>\n",
       "      <td>785573</td>\n",
       "      <td>10379</td>\n",
       "    </tr>\n",
       "    <tr>\n",
       "      <th>0</th>\n",
       "      <td>500120</td>\n",
       "      <td>9029</td>\n",
       "    </tr>\n",
       "    <tr>\n",
       "      <th>11</th>\n",
       "      <td>1000000092</td>\n",
       "      <td>8658</td>\n",
       "    </tr>\n",
       "  </tbody>\n",
       "</table>\n",
       "</div>"
      ],
      "text/plain": [
       "    UID numeric ID for the owner of the file  Number of files\n",
       "5                                     762231            20534\n",
       "10                                    881083            14576\n",
       "6                                     785573            10379\n",
       "0                                     500120             9029\n",
       "11                                1000000092             8658"
      ]
     },
     "execution_count": 12,
     "metadata": {},
     "output_type": "execute_result"
    }
   ],
   "source": [
    "users_with_many_files.head()"
   ]
  },
  {
   "cell_type": "markdown",
   "id": "4553ed4d-1de1-4b18-bf13-d8323bf83db6",
   "metadata": {},
   "source": [
    "3. To group users based on their utilization patterns of the HPCC"
   ]
  },
  {
   "cell_type": "code",
   "execution_count": null,
   "id": "95aa3e5d-46fb-44b2-b784-4f30feb45db6",
   "metadata": {},
   "outputs": [],
   "source": []
  },
  {
   "cell_type": "code",
   "execution_count": null,
   "id": "d78ff29f-c4ec-42b2-8baa-85d808915556",
   "metadata": {},
   "outputs": [],
   "source": []
  }
 ],
 "metadata": {
  "kernelspec": {
   "display_name": "Python 3 (ipykernel)",
   "language": "python",
   "name": "python3"
  },
  "language_info": {
   "codemirror_mode": {
    "name": "ipython",
    "version": 3
   },
   "file_extension": ".py",
   "mimetype": "text/x-python",
   "name": "python",
   "nbconvert_exporter": "python",
   "pygments_lexer": "ipython3",
   "version": "3.11.7"
  }
 },
 "nbformat": 4,
 "nbformat_minor": 5
}
